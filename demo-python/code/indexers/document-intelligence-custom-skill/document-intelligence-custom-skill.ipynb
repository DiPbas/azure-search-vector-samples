{
 "cells": [
  {
   "cell_type": "markdown",
   "metadata": {},
   "source": [
    "# Azure AI Search semantic chunking using Markdown and Document Intelligence\n",
    "\n",
    "This code demonstrates how to use Azure AI Search with [Document Intelligence semantic chunking with Markdown](https://learn.microsoft.com/azure/ai-services/document-intelligence/concept-retrieval-augmented-generation?view=doc-intel-4.0.0) and the Azure AI Search Documents Python SDK.\n",
    "\n",
    "It uses `azd` and a bicep template for all deployment steps so that you can focus on queries.\n",
    "\n",
    "## Prerequisites\n",
    "\n",
    "+ Follow the instructions in the [readme](./readme.md) to deploy all Azure resources, and to create and load the search index.\n",
    "\n",
    "+ Check your search service to make sure the index exists. If you don't see an index, revisit the readme and run the `setup_search_service` script.\n",
    "\n",
    "+ Don't add an `.env` file to this folder. Environment variables are read from the `azd` deployment.\n",
    "\n",
    "+ Install the packages necessary for running the queries in this notebook. "
   ]
  },
  {
   "cell_type": "code",
   "execution_count": null,
   "metadata": {},
   "outputs": [],
   "source": [
    "! pip uninstall python-dotenv"
   ]
  },
  {
   "cell_type": "code",
   "execution_count": 1,
   "metadata": {},
   "outputs": [],
   "source": [
    "! pip install azure-search-documents==11.6.0b4 --quiet\n",
    "! pip install python-dotenv azure-identity --quiet"
   ]
  },
  {
   "cell_type": "code",
   "execution_count": 1,
   "metadata": {},
   "outputs": [
    {
     "data": {
      "text/plain": [
       "True"
      ]
     },
     "execution_count": 1,
     "metadata": {},
     "output_type": "execute_result"
    }
   ],
   "source": [
    "# Load all environment variables from the azd deployment\n",
    "import subprocess\n",
    "from io import StringIO\n",
    "from dotenv import load_dotenv\n",
    "result = subprocess.run([\"azd\", \"env\", \"get-values\"], stdout=subprocess.PIPE)\n",
    "load_dotenv(stream=StringIO(result.stdout.decode(\"utf-8\")))"
   ]
  },
  {
   "cell_type": "code",
   "execution_count": 2,
   "metadata": {},
   "outputs": [],
   "source": [
    "import os\n",
    "search_url = f\"https://{os.environ['AZURE_SEARCH_SERVICE']}.search.windows.net\""
   ]
  },
  {
   "cell_type": "markdown",
   "metadata": {},
   "source": [
    "## Perform a vector similarity search\n",
    "\n",
    "This example shows a pure vector search using the vectorizable text query, all you need to do is pass in text and your vectorizer will handle the query vectorization."
   ]
  },
  {
   "cell_type": "code",
   "execution_count": 14,
   "metadata": {},
   "outputs": [
    {
     "name": "stdout",
     "output_type": "stream",
     "text": [
      "parent_id: aHR0cHM6Ly9zdGd5b2xhNG5kbDNqZGkuYmxvYi5jb3JlLndpbmRvd3MubmV0L2RvY3VtZW50LWludGVsbGlnZW5jZS1zYW1wbGUtZGF0YS9lbXBsb3llZV9oYW5kYm9vay5wZGY1\n",
      "Score: 0.03333333507180214\n",
      "Chunk Headers: ['Contoso Electronics Employee Handbook', 'Values', 'Performance Reviews', 'Performance Reviews at Contoso Electronics']\n",
      "Content: ### Performance Reviews  \n",
      "#### Performance Reviews at Contoso Electronics  \n",
      "At Contoso Electronics, we strive to ensure our employees are getting the feedback they\n",
      "need to continue growing and developing in their roles. We understand that performance\n",
      "reviews are a key part of this process and it is important to us that they are conducted in an\n",
      "effective and efficient manner.  \n",
      "Performance reviews are conducted annually and are an important part of your career\n",
      "development. During the review, your supervisor will discuss your performance over the\n",
      "past year and provide feedback on areas for improvement. They will also provide you with\n",
      "an opportunity to discuss your goals and objectives for the upcoming year.  \n",
      "Performance reviews are a two-way dialogue between managers and employees. We\n",
      "encourage all employees to be honest and open during the review process, as it is an\n",
      "important opportunity to discuss successes and challenges in the workplace.  \n",
      "We aim to provide positive and constructive feedback during performance reviews. This\n",
      "feedback should be used as an opportunity to help employees develop and grow in their\n",
      "roles.  \n",
      "Employees will receive a written summary of their performance review which will be\n",
      "discussed during the review session. This written summary will include a rating of the\n",
      "employee's performance, feedback, and goals and objectives for the upcoming year.  \n",
      "We understand that performance reviews can be a stressful process. We are committed to\n",
      "making sure that all employees feel supported and empowered during the process. We\n",
      "encourage all employees to reach out to their managers with any questions or concerns\n",
      "they may have.  \n",
      "We look forward to conducting performance reviews with all our employees. They are an\n",
      "important part of our commitment to helping our employees grow and develop in their\n",
      "roles.  \n",
      "<!-- PageBreak -->\n"
     ]
    }
   ],
   "source": [
    "from azure.search.documents import SearchClient\n",
    "from azure.search.documents.models import VectorizableTextQuery\n",
    "from azure.identity import DefaultAzureCredential\n",
    "# Pure Vector Search\n",
    "query = \"What's a performance review?\"  \n",
    "  \n",
    "search_client = SearchClient(search_url, \"document-intelligence-index\", credential=DefaultAzureCredential())\n",
    "vector_query = VectorizableTextQuery(text=query, k_nearest_neighbors=50, fields=\"vector\", exhaustive=True)\n",
    "# Use the below query to pass in the raw vector query instead of the query vectorization\n",
    "#vector_query = RawVectorQuery(vector=generate_embeddings(query), k_nearest_neighbors=3, fields=\"vector\")\n",
    "  \n",
    "results = search_client.search(  \n",
    "    search_text= query,  \n",
    "    vector_queries= [vector_query],\n",
    "    select=[\"parent_id\", \"chunk_id\", \"chunk_headers\", \"chunk\"],\n",
    "    top=1\n",
    ")  \n",
    "for result in results:\n",
    "    print(f\"parent_id: {result['parent_id']}\")  \n",
    "    print(f\"Score: {result['@search.score']}\") \n",
    "    print(f\"Chunk Headers: {result['chunk_headers']}\")\n",
    "    print(f\"Content: {result['chunk']}\")  \n"
   ]
  },
  {
   "cell_type": "markdown",
   "metadata": {},
   "source": [
    "## Perform a hybrid search\n",
    "\n",
    "Search using text and vectors combined for more relevant results"
   ]
  },
  {
   "cell_type": "code",
   "execution_count": 8,
   "metadata": {},
   "outputs": [
    {
     "ename": "HttpResponseError",
     "evalue": "() Authorization failed.\nCode: \nMessage: Authorization failed.",
     "output_type": "error",
     "traceback": [
      "\u001b[1;31m---------------------------------------------------------------------------\u001b[0m",
      "\u001b[1;31mHttpResponseError\u001b[0m                         Traceback (most recent call last)",
      "Cell \u001b[1;32mIn[8], line 13\u001b[0m\n\u001b[0;32m      4\u001b[0m vector_query \u001b[38;5;241m=\u001b[39m VectorizableTextQuery(text\u001b[38;5;241m=\u001b[39mquery, k_nearest_neighbors\u001b[38;5;241m=\u001b[39m\u001b[38;5;241m50\u001b[39m, fields\u001b[38;5;241m=\u001b[39m\u001b[38;5;124m\"\u001b[39m\u001b[38;5;124mvector\u001b[39m\u001b[38;5;124m\"\u001b[39m, exhaustive\u001b[38;5;241m=\u001b[39m\u001b[38;5;28;01mTrue\u001b[39;00m)\n\u001b[0;32m      6\u001b[0m results \u001b[38;5;241m=\u001b[39m search_client\u001b[38;5;241m.\u001b[39msearch(  \n\u001b[0;32m      7\u001b[0m     search_text\u001b[38;5;241m=\u001b[39mquery,  \n\u001b[0;32m      8\u001b[0m     vector_queries\u001b[38;5;241m=\u001b[39m [vector_query],\n\u001b[0;32m      9\u001b[0m     select\u001b[38;5;241m=\u001b[39m[\u001b[38;5;124m\"\u001b[39m\u001b[38;5;124mparent_id\u001b[39m\u001b[38;5;124m\"\u001b[39m, \u001b[38;5;124m\"\u001b[39m\u001b[38;5;124mchunk_id\u001b[39m\u001b[38;5;124m\"\u001b[39m, \u001b[38;5;124m\"\u001b[39m\u001b[38;5;124mchunk_headers\u001b[39m\u001b[38;5;124m\"\u001b[39m, \u001b[38;5;124m\"\u001b[39m\u001b[38;5;124mchunk\u001b[39m\u001b[38;5;124m\"\u001b[39m],\n\u001b[0;32m     10\u001b[0m     top\u001b[38;5;241m=\u001b[39m\u001b[38;5;241m1\u001b[39m\n\u001b[0;32m     11\u001b[0m )  \n\u001b[1;32m---> 13\u001b[0m \u001b[38;5;28;43;01mfor\u001b[39;49;00m\u001b[43m \u001b[49m\u001b[43mresult\u001b[49m\u001b[43m \u001b[49m\u001b[38;5;129;43;01min\u001b[39;49;00m\u001b[43m \u001b[49m\u001b[43mresults\u001b[49m\u001b[43m:\u001b[49m\u001b[43m  \u001b[49m\n\u001b[0;32m     14\u001b[0m \u001b[43m    \u001b[49m\u001b[38;5;28;43mprint\u001b[39;49m\u001b[43m(\u001b[49m\u001b[38;5;124;43mf\u001b[39;49m\u001b[38;5;124;43m\"\u001b[39;49m\u001b[38;5;124;43mparent_id: \u001b[39;49m\u001b[38;5;132;43;01m{\u001b[39;49;00m\u001b[43mresult\u001b[49m\u001b[43m[\u001b[49m\u001b[38;5;124;43m'\u001b[39;49m\u001b[38;5;124;43mparent_id\u001b[39;49m\u001b[38;5;124;43m'\u001b[39;49m\u001b[43m]\u001b[49m\u001b[38;5;132;43;01m}\u001b[39;49;00m\u001b[38;5;124;43m\"\u001b[39;49m\u001b[43m)\u001b[49m\u001b[43m  \u001b[49m\n\u001b[0;32m     15\u001b[0m \u001b[43m    \u001b[49m\u001b[38;5;28;43mprint\u001b[39;49m\u001b[43m(\u001b[49m\u001b[38;5;124;43mf\u001b[39;49m\u001b[38;5;124;43m\"\u001b[39;49m\u001b[38;5;124;43mchunk_id: \u001b[39;49m\u001b[38;5;132;43;01m{\u001b[39;49;00m\u001b[43mresult\u001b[49m\u001b[43m[\u001b[49m\u001b[38;5;124;43m'\u001b[39;49m\u001b[38;5;124;43mchunk_id\u001b[39;49m\u001b[38;5;124;43m'\u001b[39;49m\u001b[43m]\u001b[49m\u001b[38;5;132;43;01m}\u001b[39;49;00m\u001b[38;5;124;43m\"\u001b[39;49m\u001b[43m)\u001b[49m\u001b[43m  \u001b[49m\n",
      "File \u001b[1;32m~\\AppData\\Local\\Packages\\PythonSoftwareFoundation.Python.3.12_qbz5n2kfra8p0\\LocalCache\\local-packages\\Python312\\site-packages\\azure\\search\\documents\\_paging.py:54\u001b[0m, in \u001b[0;36mSearchItemPaged.__next__\u001b[1;34m(self)\u001b[0m\n\u001b[0;32m     52\u001b[0m     first_iterator \u001b[38;5;241m=\u001b[39m \u001b[38;5;28mself\u001b[39m\u001b[38;5;241m.\u001b[39m_first_iterator_instance()\n\u001b[0;32m     53\u001b[0m     \u001b[38;5;28mself\u001b[39m\u001b[38;5;241m.\u001b[39m_page_iterator \u001b[38;5;241m=\u001b[39m itertools\u001b[38;5;241m.\u001b[39mchain\u001b[38;5;241m.\u001b[39mfrom_iterable(first_iterator)\n\u001b[1;32m---> 54\u001b[0m \u001b[38;5;28;01mreturn\u001b[39;00m \u001b[38;5;28;43mnext\u001b[39;49m\u001b[43m(\u001b[49m\u001b[38;5;28;43mself\u001b[39;49m\u001b[38;5;241;43m.\u001b[39;49m\u001b[43m_page_iterator\u001b[49m\u001b[43m)\u001b[49m\n",
      "File \u001b[1;32m~\\AppData\\Local\\Packages\\PythonSoftwareFoundation.Python.3.12_qbz5n2kfra8p0\\LocalCache\\local-packages\\Python312\\site-packages\\azure\\core\\paging.py:75\u001b[0m, in \u001b[0;36mPageIterator.__next__\u001b[1;34m(self)\u001b[0m\n\u001b[0;32m     73\u001b[0m     \u001b[38;5;28;01mraise\u001b[39;00m \u001b[38;5;167;01mStopIteration\u001b[39;00m(\u001b[38;5;124m\"\u001b[39m\u001b[38;5;124mEnd of paging\u001b[39m\u001b[38;5;124m\"\u001b[39m)\n\u001b[0;32m     74\u001b[0m \u001b[38;5;28;01mtry\u001b[39;00m:\n\u001b[1;32m---> 75\u001b[0m     \u001b[38;5;28mself\u001b[39m\u001b[38;5;241m.\u001b[39m_response \u001b[38;5;241m=\u001b[39m \u001b[38;5;28;43mself\u001b[39;49m\u001b[38;5;241;43m.\u001b[39;49m\u001b[43m_get_next\u001b[49m\u001b[43m(\u001b[49m\u001b[38;5;28;43mself\u001b[39;49m\u001b[38;5;241;43m.\u001b[39;49m\u001b[43mcontinuation_token\u001b[49m\u001b[43m)\u001b[49m\n\u001b[0;32m     76\u001b[0m \u001b[38;5;28;01mexcept\u001b[39;00m AzureError \u001b[38;5;28;01mas\u001b[39;00m error:\n\u001b[0;32m     77\u001b[0m     \u001b[38;5;28;01mif\u001b[39;00m \u001b[38;5;129;01mnot\u001b[39;00m error\u001b[38;5;241m.\u001b[39mcontinuation_token:\n",
      "File \u001b[1;32m~\\AppData\\Local\\Packages\\PythonSoftwareFoundation.Python.3.12_qbz5n2kfra8p0\\LocalCache\\local-packages\\Python312\\site-packages\\azure\\search\\documents\\_paging.py:125\u001b[0m, in \u001b[0;36mSearchPageIterator._get_next_cb\u001b[1;34m(self, continuation_token)\u001b[0m\n\u001b[0;32m    123\u001b[0m \u001b[38;5;28;01mdef\u001b[39;00m \u001b[38;5;21m_get_next_cb\u001b[39m(\u001b[38;5;28mself\u001b[39m, continuation_token):\n\u001b[0;32m    124\u001b[0m     \u001b[38;5;28;01mif\u001b[39;00m continuation_token \u001b[38;5;129;01mis\u001b[39;00m \u001b[38;5;28;01mNone\u001b[39;00m:\n\u001b[1;32m--> 125\u001b[0m         \u001b[38;5;28;01mreturn\u001b[39;00m \u001b[38;5;28;43mself\u001b[39;49m\u001b[38;5;241;43m.\u001b[39;49m\u001b[43m_client\u001b[49m\u001b[38;5;241;43m.\u001b[39;49m\u001b[43mdocuments\u001b[49m\u001b[38;5;241;43m.\u001b[39;49m\u001b[43msearch_post\u001b[49m\u001b[43m(\u001b[49m\u001b[43msearch_request\u001b[49m\u001b[38;5;241;43m=\u001b[39;49m\u001b[38;5;28;43mself\u001b[39;49m\u001b[38;5;241;43m.\u001b[39;49m\u001b[43m_initial_query\u001b[49m\u001b[38;5;241;43m.\u001b[39;49m\u001b[43mrequest\u001b[49m\u001b[43m,\u001b[49m\u001b[43m \u001b[49m\u001b[38;5;241;43m*\u001b[39;49m\u001b[38;5;241;43m*\u001b[39;49m\u001b[38;5;28;43mself\u001b[39;49m\u001b[38;5;241;43m.\u001b[39;49m\u001b[43m_kwargs\u001b[49m\u001b[43m)\u001b[49m\n\u001b[0;32m    127\u001b[0m     _next_link, next_page_request \u001b[38;5;241m=\u001b[39m unpack_continuation_token(continuation_token)\n\u001b[0;32m    129\u001b[0m     \u001b[38;5;28;01mreturn\u001b[39;00m \u001b[38;5;28mself\u001b[39m\u001b[38;5;241m.\u001b[39m_client\u001b[38;5;241m.\u001b[39mdocuments\u001b[38;5;241m.\u001b[39msearch_post(search_request\u001b[38;5;241m=\u001b[39mnext_page_request, \u001b[38;5;241m*\u001b[39m\u001b[38;5;241m*\u001b[39m\u001b[38;5;28mself\u001b[39m\u001b[38;5;241m.\u001b[39m_kwargs)\n",
      "File \u001b[1;32m~\\AppData\\Local\\Packages\\PythonSoftwareFoundation.Python.3.12_qbz5n2kfra8p0\\LocalCache\\local-packages\\Python312\\site-packages\\azure\\core\\tracing\\decorator.py:94\u001b[0m, in \u001b[0;36mdistributed_trace.<locals>.decorator.<locals>.wrapper_use_tracer\u001b[1;34m(*args, **kwargs)\u001b[0m\n\u001b[0;32m     92\u001b[0m span_impl_type \u001b[38;5;241m=\u001b[39m settings\u001b[38;5;241m.\u001b[39mtracing_implementation()\n\u001b[0;32m     93\u001b[0m \u001b[38;5;28;01mif\u001b[39;00m span_impl_type \u001b[38;5;129;01mis\u001b[39;00m \u001b[38;5;28;01mNone\u001b[39;00m:\n\u001b[1;32m---> 94\u001b[0m     \u001b[38;5;28;01mreturn\u001b[39;00m \u001b[43mfunc\u001b[49m\u001b[43m(\u001b[49m\u001b[38;5;241;43m*\u001b[39;49m\u001b[43margs\u001b[49m\u001b[43m,\u001b[49m\u001b[43m \u001b[49m\u001b[38;5;241;43m*\u001b[39;49m\u001b[38;5;241;43m*\u001b[39;49m\u001b[43mkwargs\u001b[49m\u001b[43m)\u001b[49m\n\u001b[0;32m     96\u001b[0m \u001b[38;5;66;03m# Merge span is parameter is set, but only if no explicit parent are passed\u001b[39;00m\n\u001b[0;32m     97\u001b[0m \u001b[38;5;28;01mif\u001b[39;00m merge_span \u001b[38;5;129;01mand\u001b[39;00m \u001b[38;5;129;01mnot\u001b[39;00m passed_in_parent:\n",
      "File \u001b[1;32m~\\AppData\\Local\\Packages\\PythonSoftwareFoundation.Python.3.12_qbz5n2kfra8p0\\LocalCache\\local-packages\\Python312\\site-packages\\azure\\search\\documents\\_generated\\operations\\_documents_operations.py:783\u001b[0m, in \u001b[0;36mDocumentsOperations.search_post\u001b[1;34m(self, search_request, request_options, **kwargs)\u001b[0m\n\u001b[0;32m    781\u001b[0m     map_error(status_code\u001b[38;5;241m=\u001b[39mresponse\u001b[38;5;241m.\u001b[39mstatus_code, response\u001b[38;5;241m=\u001b[39mresponse, error_map\u001b[38;5;241m=\u001b[39merror_map)\n\u001b[0;32m    782\u001b[0m     error \u001b[38;5;241m=\u001b[39m \u001b[38;5;28mself\u001b[39m\u001b[38;5;241m.\u001b[39m_deserialize\u001b[38;5;241m.\u001b[39mfailsafe_deserialize(_models\u001b[38;5;241m.\u001b[39mErrorResponse, pipeline_response)\n\u001b[1;32m--> 783\u001b[0m     \u001b[38;5;28;01mraise\u001b[39;00m HttpResponseError(response\u001b[38;5;241m=\u001b[39mresponse, model\u001b[38;5;241m=\u001b[39merror)\n\u001b[0;32m    785\u001b[0m deserialized \u001b[38;5;241m=\u001b[39m \u001b[38;5;28mself\u001b[39m\u001b[38;5;241m.\u001b[39m_deserialize(\u001b[38;5;124m\"\u001b[39m\u001b[38;5;124mSearchDocumentsResult\u001b[39m\u001b[38;5;124m\"\u001b[39m, pipeline_response)\n\u001b[0;32m    787\u001b[0m \u001b[38;5;28;01mif\u001b[39;00m \u001b[38;5;28mcls\u001b[39m:\n",
      "\u001b[1;31mHttpResponseError\u001b[0m: () Authorization failed.\nCode: \nMessage: Authorization failed."
     ]
    }
   ],
   "source": [
    "# Hybrid Search\n",
    "query = \"What's the difference between the health plans?\"  \n",
    "  \n",
    "vector_query = VectorizableTextQuery(text=query, k_nearest_neighbors=50, fields=\"vector\", exhaustive=True)\n",
    "  \n",
    "results = search_client.search(  \n",
    "    search_text=query,  \n",
    "    vector_queries= [vector_query],\n",
    "    select=[\"parent_id\", \"chunk_id\", \"chunk_headers\", \"chunk\"],\n",
    "    top=1\n",
    ")  \n",
    "  \n",
    "for result in results:  \n",
    "    print(f\"parent_id: {result['parent_id']}\")  \n",
    "    print(f\"chunk_id: {result['chunk_id']}\")  \n",
    "    print(f\"Score: {result['@search.score']}\")  \n",
    "    print(f\"Chunk Headers: {result['chunk_headers']}\")\n",
    "    print(f\"Content: {result['chunk']}\")  \n"
   ]
  },
  {
   "cell_type": "markdown",
   "metadata": {},
   "source": [
    "## Use chunk headers to improve search results\n",
    "\n",
    "Semantic chunking retrieves section headers if they are available. Use them to improve your search results\n",
    "\n",
    "Note that semantic chunking from document intelligence automatically converts tables to Markdown form"
   ]
  },
  {
   "cell_type": "code",
   "execution_count": 12,
   "metadata": {},
   "outputs": [
    {
     "name": "stdout",
     "output_type": "stream",
     "text": [
      "parent_id: aHR0cHM6Ly9zdGd5b2xhNG5kbDNqZGkuYmxvYi5jb3JlLndpbmRvd3MubmV0L2RvY3VtZW50LWludGVsbGlnZW5jZS1zYW1wbGUtZGF0YS9CZW5lZml0X09wdGlvbnMucGRm0\n",
      "chunk_id: cef761850e8b_aHR0cHM6Ly9zdGd5b2xhNG5kbDNqZGkuYmxvYi5jb3JlLndpbmRvd3MubmV0L2RvY3VtZW50LWludGVsbGlnZW5jZS1zYW1wbGUtZGF0YS9CZW5lZml0X09wdGlvbnMucGRm0_chunks_4\n",
      "Score: 0.03333333507180214\n",
      "Chunk Headers: ['Contoso Electronics', 'Cost Comparison']\n",
      "Content: ## Cost Comparison  \n",
      "Contoso Electronics deducts the employee's portion of the healthcare cost from each paycheck. This\n",
      "means that the cost of the health insurance will be spread out over the course of the year, rather\n",
      "than being paid in one lump sum. The employee's portion of the cost will be calculated based on the\n",
      "selected health plan and the number of people covered by the insurance. The table below shows a\n",
      "cost comparison between the different health plans offered by Contoso Electronics:  \n",
      "<table>\n",
      "<tr>\n",
      "<th></th>\n",
      "<th colspan=\"2\">Employee's cost per paycheck</th>\n",
      "</tr>\n",
      "<tr>\n",
      "<th></th>\n",
      "<th>Northwind Standard</th>\n",
      "<th>Northwind Health Plus</th>\n",
      "</tr>\n",
      "<tr>\n",
      "<td>Employee Only</td>\n",
      "<td>$45.00</td>\n",
      "<td>$55.00</td>\n",
      "</tr>\n",
      "<tr>\n",
      "<td>Employee +1</td>\n",
      "<td>$65.00</td>\n",
      "<td>$71.00</td>\n",
      "</tr>\n",
      "<tr>\n",
      "<td>Employee +2 or more</td>\n",
      "<td>$78.00</td>\n",
      "<td>$89.00</td>\n",
      "</tr>\n",
      "</table>\n"
     ]
    }
   ],
   "source": [
    "# Hybrid Search\n",
    "query = \"How does the cost between health plans compare?\"  \n",
    "  \n",
    "vector_query = VectorizableTextQuery(text=query, k_nearest_neighbors=50, fields=\"vector\", exhaustive=True)\n",
    "  \n",
    "results = search_client.search(  \n",
    "    search_text=query,  \n",
    "    vector_queries= [vector_query],\n",
    "    select=[\"parent_id\", \"chunk_id\", \"chunk_headers\", \"chunk\"],\n",
    "    search_fields=[\"chunk\", \"chunk_headers\"],\n",
    "    top=1\n",
    ")  \n",
    "  \n",
    "for result in results:  \n",
    "    print(f\"parent_id: {result['parent_id']}\")  \n",
    "    print(f\"chunk_id: {result['chunk_id']}\")  \n",
    "    print(f\"Score: {result['@search.score']}\")  \n",
    "    print(f\"Chunk Headers: {result['chunk_headers']}\")\n",
    "    print(f\"Content: {result['chunk']}\")  \n"
   ]
  },
  {
   "cell_type": "markdown",
   "metadata": {},
   "source": [
    "## Perform a hybrid search + Semantic reranking"
   ]
  },
  {
   "cell_type": "code",
   "execution_count": 15,
   "metadata": {},
   "outputs": [
    {
     "name": "stdout",
     "output_type": "stream",
     "text": [
      "Semantic Answer: Performance reviews are<em> conducted annually</em> and are<em> an important part of your career development</em> During the<em> review, your supervisor will discuss your performance over the past year and provide feedback on areas for improvement</em> They will also provide you with an opportunity to discuss your goals and objectives for the upcoming year Performance review...\n",
      "Semantic Answer Score: 0.90771484375\n",
      "\n",
      "parent_id: aHR0cHM6Ly9zdGd5b2xhNG5kbDNqZGkuYmxvYi5jb3JlLndpbmRvd3MubmV0L2RvY3VtZW50LWludGVsbGlnZW5jZS1zYW1wbGUtZGF0YS9lbXBsb3llZV9oYW5kYm9vay5wZGY1\n",
      "chunk_id: 83d4a28b50ce_aHR0cHM6Ly9zdGd5b2xhNG5kbDNqZGkuYmxvYi5jb3JlLndpbmRvd3MubmV0L2RvY3VtZW50LWludGVsbGlnZW5jZS1zYW1wbGUtZGF0YS9lbXBsb3llZV9oYW5kYm9vay5wZGY1_chunks_3\n",
      "Score: 0.03333333507180214\n",
      "Content: ### Performance Reviews  \n",
      "#### Performance Reviews at Contoso Electronics  \n",
      "At Contoso Electronics, we strive to ensure our employees are getting the feedback they\n",
      "need to continue growing and developing in their roles. We understand that performance\n",
      "reviews are a key part of this process and it is important to us that they are conducted in an\n",
      "effective and efficient manner.  \n",
      "Performance reviews are conducted annually and are an important part of your career\n",
      "development. During the review, your supervisor will discuss your performance over the\n",
      "past year and provide feedback on areas for improvement. They will also provide you with\n",
      "an opportunity to discuss your goals and objectives for the upcoming year.  \n",
      "Performance reviews are a two-way dialogue between managers and employees. We\n",
      "encourage all employees to be honest and open during the review process, as it is an\n",
      "important opportunity to discuss successes and challenges in the workplace.  \n",
      "We aim to provide positive and constructive feedback during performance reviews. This\n",
      "feedback should be used as an opportunity to help employees develop and grow in their\n",
      "roles.  \n",
      "Employees will receive a written summary of their performance review which will be\n",
      "discussed during the review session. This written summary will include a rating of the\n",
      "employee's performance, feedback, and goals and objectives for the upcoming year.  \n",
      "We understand that performance reviews can be a stressful process. We are committed to\n",
      "making sure that all employees feel supported and empowered during the process. We\n",
      "encourage all employees to reach out to their managers with any questions or concerns\n",
      "they may have.  \n",
      "We look forward to conducting performance reviews with all our employees. They are an\n",
      "important part of our commitment to helping our employees grow and develop in their\n",
      "roles.  \n",
      "<!-- PageBreak -->\n",
      "Caption: <em>Performance reviews</em> are conducted annually and are an important part of your career development During the review, your supervisor will discuss your performance over the past year and provide feedback on areas for improvement They will also provide you with an opportunity to discuss your goals and objectives for the upcoming year<em> Performance review...</em>\n",
      "\n",
      "parent_id: aHR0cHM6Ly9zdGd5b2xhNG5kbDNqZGkuYmxvYi5jb3JlLndpbmRvd3MubmV0L2RvY3VtZW50LWludGVsbGlnZW5jZS1zYW1wbGUtZGF0YS9yb2xlX2xpYnJhcnkucGRm0\n",
      "chunk_id: 83d4a28b50ce_aHR0cHM6Ly9zdGd5b2xhNG5kbDNqZGkuYmxvYi5jb3JlLndpbmRvd3MubmV0L2RvY3VtZW50LWludGVsbGlnZW5jZS1zYW1wbGUtZGF0YS9yb2xlX2xpYnJhcnkucGRm0_chunks_27\n",
      "Score: 0.022079773247241974\n",
      "Content: #### Senior Manager of Human Resources  \n",
      "Job Title: Senior Manager of Human Resources\n",
      "Company: Contoso Electronics  \n",
      "Overview:  \n",
      "Contoso Electronics is looking for an experienced Senior Manager of Human Resources to\n",
      "join their team. This position will be responsible for overseeing the recruitment,\n",
      "development, and retention of employees at all levels of the company. The Senior Manager\n",
      "of Human Resources will provide leadership and direction to the Human Resources team,\n",
      "ensuring that all processes and procedures are followed and that the department meets its\n",
      "goals and objectives.  \n",
      "Responsibilities:  \n",
      "· Develop and implement human resources strategies and initiatives that align with the\n",
      "overall business goals and objectives  \n",
      "· Lead the recruitment process, including sourcing, screening, interviewing, and onboarding\n",
      "new employees  \n",
      "· Oversee the development and implementation of employee training and development\n",
      "programs  \n",
      "· Monitor and evaluate performance management processes  \n",
      "· Develop and maintain company policies and procedures  \n",
      "· Ensure compliance with all applicable employment laws and regulations  \n",
      "· Provide guidance and support to managers and supervisors on employee relations\n",
      "matters  \n",
      "· Oversee the performance appraisal process and ensure that performance objectives are\n",
      "met  \n",
      "· Assist with salary and compensation reviews  \n",
      "· Manage employee benefits and retirement plans  \n",
      "· Manage employee relations and handle employee disputes  \n",
      "· Organize employee activities and team-building events  \n",
      "Qualifications:  \n",
      "· Bachelor's degree in Human Resources or a related field  \n",
      "<!-- PageBreak -->  \n",
      "· Proven experience as a Human Resources Manager or similar role  \n",
      "· Experience in developing and implementing HR strategies, policies, and procedures  \n",
      "· Excellent knowledge of labor laws and employee benefits  \n",
      "· Strong leadership, interpersonal, and communication skills  \n",
      "· Ability to analyze and interpret data  \n",
      "· Proficiency in MS Office, HRIS systems, and other related software  \n",
      "· Certification in Human Resources (e.g. PHR or SHRM-CP) is preferred\n",
      "Caption: screening, interviewing, and onboarding new employees   · Oversee the development and implementation of employee training and development programs   · Monitor and<em> evaluate performance management</em> processes   · Develop and maintain company policies and procedures   · Ensure compliance with all applicable employment laws and regulations   · Provide gu...\n",
      "\n"
     ]
    }
   ],
   "source": [
    "from azure.search.documents.models import QueryType, QueryCaptionType, QueryAnswerType\n",
    "\n",
    "# Semantic Hybrid Search\n",
    "query = \"What's a performance review?\"\n",
    "\n",
    "vector_query = VectorizableTextQuery(text=query, k_nearest_neighbors=50, fields=\"vector\", exhaustive=True)\n",
    "\n",
    "results = search_client.search(  \n",
    "    search_text=query,\n",
    "    vector_queries=[vector_query],\n",
    "    select=[\"parent_id\", \"chunk_id\", \"chunk\"],\n",
    "    query_type=QueryType.SEMANTIC,  semantic_configuration_name='my-semantic-config', query_caption=QueryCaptionType.EXTRACTIVE, query_answer=QueryAnswerType.EXTRACTIVE,\n",
    "    top=2\n",
    ")\n",
    "\n",
    "semantic_answers = results.get_answers()\n",
    "for answer in semantic_answers:\n",
    "    if answer.highlights:\n",
    "        print(f\"Semantic Answer: {answer.highlights}\")\n",
    "    else:\n",
    "        print(f\"Semantic Answer: {answer.text}\")\n",
    "    print(f\"Semantic Answer Score: {answer.score}\\n\")\n",
    "\n",
    "for result in results:\n",
    "    print(f\"parent_id: {result['parent_id']}\")  \n",
    "    print(f\"chunk_id: {result['chunk_id']}\")  \n",
    "    print(f\"Score: {result['@search.score']}\")  \n",
    "    print(f\"Content: {result['chunk']}\")  \n",
    "\n",
    "    captions = result[\"@search.captions\"]\n",
    "    if captions:\n",
    "        caption = captions[0]\n",
    "        if caption.highlights:\n",
    "            print(f\"Caption: {caption.highlights}\\n\")\n",
    "        else:\n",
    "            print(f\"Caption: {caption.text}\\n\")\n"
   ]
  }
 ],
 "metadata": {
  "kernelspec": {
   "display_name": ".venv",
   "language": "python",
   "name": "python3"
  },
  "language_info": {
   "codemirror_mode": {
    "name": "ipython",
    "version": 3
   },
   "file_extension": ".py",
   "mimetype": "text/x-python",
   "name": "python",
   "nbconvert_exporter": "python",
   "pygments_lexer": "ipython3",
   "version": "3.12.6"
  }
 },
 "nbformat": 4,
 "nbformat_minor": 2
}
